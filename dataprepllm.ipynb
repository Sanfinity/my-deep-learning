{
 "cells": [
  {
   "cell_type": "markdown",
   "id": "e4832fc6-e1cc-420d-903a-15a198badf22",
   "metadata": {},
   "source": [
    "## Hi This is my data preparation worksheet"
   ]
  },
  {
   "cell_type": "code",
   "execution_count": 3,
   "id": "a40092d1-c820-499e-9b9d-5fa2b25b84eb",
   "metadata": {},
   "outputs": [
    {
     "name": "stdout",
     "output_type": "stream",
     "text": [
      "Total number of characters:  20479\n"
     ]
    },
    {
     "data": {
      "text/plain": [
       "'I HAD always thought Jack Gisburn rather a cheap genius--though a good fellow enough--so it was no '"
      ]
     },
     "execution_count": 3,
     "metadata": {},
     "output_type": "execute_result"
    }
   ],
   "source": [
    "with open(\"the-verdict.txt\", \"r\", encoding=\"utf-8\") as f:\n",
    "      raw_text = f.read()\n",
    "\n",
    "print(\"Total number of characters: \", len(raw_text))\n",
    "raw_text[:99]"
   ]
  },
  {
   "cell_type": "code",
   "execution_count": 4,
   "id": "20fc1507-0c72-4b89-a991-75b829612f1d",
   "metadata": {},
   "outputs": [],
   "source": [
    "import re"
   ]
  },
  {
   "cell_type": "code",
   "execution_count": 9,
   "id": "c1eb4f3d-0cb6-4d77-9fcb-d26b7a981786",
   "metadata": {},
   "outputs": [
    {
     "name": "stdout",
     "output_type": "stream",
     "text": [
      "['Hello', ' ', 'I', ' ', 'am', ' ', 'just', ' ', 'trying', ' ', 'this', ' ', 'out!']\n"
     ]
    }
   ],
   "source": [
    "text = \"Hello I am just trying this out!\"\n",
    "result = re.split(r'(\\s)', text)\n",
    "print(result)"
   ]
  },
  {
   "cell_type": "code",
   "execution_count": 10,
   "id": "587379c3-e3d2-4cf6-80b7-bb1b7e7f78fc",
   "metadata": {},
   "outputs": [
    {
     "name": "stdout",
     "output_type": "stream",
     "text": [
      "['Hello', ' ', 'I', ' ', 'am', ' ', 'just', ' ', 'trying', ' ', 'this', ' ', 'out!']\n"
     ]
    }
   ],
   "source": [
    "result = re.split(r'[,.]|(\\s)', text)\n",
    "print(result)"
   ]
  },
  {
   "cell_type": "code",
   "execution_count": 12,
   "id": "a87e4459-2451-42fd-9536-23b78e2772bc",
   "metadata": {},
   "outputs": [
    {
     "data": {
      "text/plain": [
       "['Hello', 'I', 'am', 'just', 'trying', 'this', 'out!']"
      ]
     },
     "execution_count": 12,
     "metadata": {},
     "output_type": "execute_result"
    }
   ],
   "source": [
    "result = [item for item in result if item.strip()]\n",
    "result"
   ]
  },
  {
   "cell_type": "markdown",
   "id": "1802f72c-2ca9-4f79-b821-e6a4819f3da4",
   "metadata": {},
   "source": [
    "This is a simple example of how a tokenizer works"
   ]
  },
  {
   "cell_type": "code",
   "execution_count": 13,
   "id": "e17a1657-352e-4d33-a80d-515c3033b7d5",
   "metadata": {},
   "outputs": [],
   "source": [
    "preprocessed = re.split(r'([,.:;?_!\"()\\']|--|\\s)',raw_text)"
   ]
  },
  {
   "cell_type": "code",
   "execution_count": 15,
   "id": "e0009239-b8dd-4391-8cd1-d5673d711367",
   "metadata": {},
   "outputs": [
    {
     "name": "stdout",
     "output_type": "stream",
     "text": [
      "['I', 'HAD', 'always', 'thought', 'Jack', 'Gisburn', 'rather', 'a', 'cheap', 'genius', '--', 'though', 'a', 'good', 'fellow', 'enough', '--', 'so', 'it', 'was', 'no', 'great', 'surprise', 'to', 'me', 'to', 'hear', 'that', ',', 'in']\n"
     ]
    }
   ],
   "source": [
    "preprocessed = [item for item in preprocessed if item.strip()]\n",
    "print(preprocessed[:30])"
   ]
  },
  {
   "cell_type": "code",
   "execution_count": 18,
   "id": "4903e0db-ca31-43bf-95c8-be7d3c5443bb",
   "metadata": {},
   "outputs": [
    {
     "name": "stdout",
     "output_type": "stream",
     "text": [
      "4690\n"
     ]
    }
   ],
   "source": [
    "print(len(preprocessed))"
   ]
  },
  {
   "cell_type": "markdown",
   "id": "9987ea92-1793-46fe-8d2a-aef75c0c82f6",
   "metadata": {},
   "source": [
    "Convert Tokens into Token IDs"
   ]
  },
  {
   "cell_type": "code",
   "execution_count": 19,
   "id": "a0104f8e-48ba-4634-9df8-28a7ab38c54e",
   "metadata": {},
   "outputs": [],
   "source": [
    "allwords = sorted(set(preprocessed))"
   ]
  },
  {
   "cell_type": "code",
   "execution_count": 21,
   "id": "de85580c-43ec-4d83-baa8-72fe353a628b",
   "metadata": {},
   "outputs": [
    {
     "data": {
      "text/plain": [
       "1130"
      ]
     },
     "execution_count": 21,
     "metadata": {},
     "output_type": "execute_result"
    }
   ],
   "source": [
    "vocab_size = len(allwords)\n",
    "vocab_size"
   ]
  },
  {
   "cell_type": "code",
   "execution_count": 23,
   "id": "d23f82dc-2923-4c6c-97bb-c15fbdb9bcee",
   "metadata": {},
   "outputs": [],
   "source": [
    "vocab = {token:integer for integer,token in enumerate(allwords)}"
   ]
  },
  {
   "cell_type": "code",
   "execution_count": 27,
   "id": "8dad2a8e-88e4-4ce4-a1ad-1dec97d902e5",
   "metadata": {},
   "outputs": [
    {
     "name": "stdout",
     "output_type": "stream",
     "text": [
      "0 -> ('!', 0)\n",
      "1 -> ('\"', 1)\n",
      "2 -> (\"'\", 2)\n",
      "3 -> ('(', 3)\n",
      "4 -> (')', 4)\n",
      "5 -> (',', 5)\n",
      "6 -> ('--', 6)\n",
      "7 -> ('.', 7)\n",
      "8 -> (':', 8)\n",
      "9 -> (';', 9)\n",
      "10 -> ('?', 10)\n",
      "11 -> ('A', 11)\n",
      "12 -> ('Ah', 12)\n",
      "13 -> ('Among', 13)\n",
      "14 -> ('And', 14)\n",
      "15 -> ('Are', 15)\n",
      "16 -> ('Arrt', 16)\n",
      "17 -> ('As', 17)\n",
      "18 -> ('At', 18)\n",
      "19 -> ('Be', 19)\n",
      "20 -> ('Begin', 20)\n"
     ]
    }
   ],
   "source": [
    "for i,item in enumerate(vocab.items()):\n",
    "    print(i,\"->\",item)\n",
    "    if i>=20:\n",
    "        break"
   ]
  },
  {
   "cell_type": "code",
   "execution_count": null,
   "id": "4e027d15-39be-4cdc-b925-e3e9867da26d",
   "metadata": {},
   "outputs": [],
   "source": []
  },
  {
   "cell_type": "code",
   "execution_count": null,
   "id": "7ee48545-62b9-4c79-9636-48ae3cc74fb5",
   "metadata": {},
   "outputs": [],
   "source": []
  },
  {
   "cell_type": "code",
   "execution_count": null,
   "id": "46f441a5-4334-424c-a21e-bb19158d8da6",
   "metadata": {},
   "outputs": [],
   "source": []
  },
  {
   "cell_type": "code",
   "execution_count": null,
   "id": "0254a857-4d8f-47ca-a52d-b373eab9befe",
   "metadata": {},
   "outputs": [],
   "source": []
  },
  {
   "cell_type": "code",
   "execution_count": null,
   "id": "46247c9d-1639-49d1-884b-4e3bcc2293e9",
   "metadata": {},
   "outputs": [],
   "source": []
  },
  {
   "cell_type": "code",
   "execution_count": null,
   "id": "f21b121d-d33f-4fe9-bf9e-26ad3b5d5813",
   "metadata": {},
   "outputs": [],
   "source": []
  }
 ],
 "metadata": {
  "kernelspec": {
   "display_name": "Python 3 (ipykernel)",
   "language": "python",
   "name": "python3"
  },
  "language_info": {
   "codemirror_mode": {
    "name": "ipython",
    "version": 3
   },
   "file_extension": ".py",
   "mimetype": "text/x-python",
   "name": "python",
   "nbconvert_exporter": "python",
   "pygments_lexer": "ipython3",
   "version": "3.12.6"
  }
 },
 "nbformat": 4,
 "nbformat_minor": 5
}
